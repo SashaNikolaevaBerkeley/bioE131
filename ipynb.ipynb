{
 "cells": [
  {
   "cell_type": "code",
   "execution_count": null,
   "metadata": {},
   "outputs": [],
   "source": [
    "import sys\n",
    "Romeo = open(\"romeoandjuliet.txt\")\n",
    "for line in Romeo:\n",
    "print(line)"
   ]
  },
  {
   "cell_type": "code",
   "execution_count": null,
   "metadata": {},
   "outputs": [],
   "source": [
    "newDict = {} \n",
    "\n",
    "with open('romeoandjuliet.txt') as f:\n",
    "    for line in f:\n",
    "       words = line.replace('.','').replace('\\'','').replace(',','').lower().split()\n",
    "       for word in words:\n",
    "            if word not in newDict:\n",
    "                newDict[word] = 1\n",
    "            else:\n",
    "                newDict[word] = newDict[word] + 1\n",
    "\n",
    "        \n",
    "\n",
    "print (newDict) I don't want to print the whole dictionary in the file. "
   ]
  },
  {
   "cell_type": "code",
   "execution_count": null,
   "metadata": {},
   "outputs": [],
   "source": [
    "import matplotlib.pyplot as plt\n",
    "\n",
    "plt.bar(range(len(newDict)), list(newDict.values()), align='center')\n",
    "plt.xticks(range(len(newDict)), list(newDict.keys()))\n",
    "\n",
    "plt.show()"
   ]
  },
  {
   "cell_type": "code",
   "execution_count": null,
   "metadata": {},
   "outputs": [],
   "source": [
    "#The word that occurs most often is \"the\".  "
   ]
  }
 ],
 "metadata": {
  "kernelspec": {
   "display_name": "Python 3",
   "language": "python",
   "name": "python3"
  },
  "language_info": {
   "codemirror_mode": {
    "name": "ipython",
    "version": 3
   },
   "file_extension": ".py",
   "mimetype": "text/x-python",
   "name": "python",
   "nbconvert_exporter": "python",
   "pygments_lexer": "ipython3",
   "version": "3.7.3"
  }
 },
 "nbformat": 4,
 "nbformat_minor": 2
}
